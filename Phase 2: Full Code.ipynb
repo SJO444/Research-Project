{
 "cells": [
  {
   "cell_type": "markdown",
   "id": "55072d84",
   "metadata": {},
   "source": [
    "# 1. Filtering G20 Dataset "
   ]
  },
  {
   "cell_type": "code",
   "execution_count": null,
   "id": "ba72365c",
   "metadata": {},
   "outputs": [],
   "source": [
    "import pandas as pd\n",
    "G20data = pd.read_csv('G20Hamburg.csv')\n",
    "print(G20data.info())\n",
    "print(G20data.describe())"
   ]
  },
  {
   "cell_type": "markdown",
   "id": "a9aa688e",
   "metadata": {},
   "source": [
    "## 1.1. Filtering male leaders"
   ]
  },
  {
   "cell_type": "code",
   "execution_count": 1,
   "id": "6d515dbe",
   "metadata": {},
   "outputs": [
    {
     "ename": "NameError",
     "evalue": "name 'G20data' is not defined",
     "output_type": "error",
     "traceback": [
      "\u001b[1;31m---------------------------------------------------------------------------\u001b[0m",
      "\u001b[1;31mNameError\u001b[0m                                 Traceback (most recent call last)",
      "Cell \u001b[1;32mIn[1], line 2\u001b[0m\n\u001b[0;32m      1\u001b[0m \u001b[38;5;66;03m# Rename columns\u001b[39;00m\n\u001b[1;32m----> 2\u001b[0m G20data \u001b[38;5;241m=\u001b[39m G20data\u001b[38;5;241m.\u001b[39mrename(columns\u001b[38;5;241m=\u001b[39m{\n\u001b[0;32m      3\u001b[0m     \u001b[38;5;124m'\u001b[39m\u001b[38;5;124mTweet\u001b[39m\u001b[38;5;124m'\u001b[39m: \u001b[38;5;124m'\u001b[39m\u001b[38;5;124mTweetNumber\u001b[39m\u001b[38;5;124m'\u001b[39m,\n\u001b[0;32m      4\u001b[0m     \u001b[38;5;124m'\u001b[39m\u001b[38;5;124mTweet.1\u001b[39m\u001b[38;5;124m'\u001b[39m: \u001b[38;5;124m'\u001b[39m\u001b[38;5;124mTweetContent\u001b[39m\u001b[38;5;124m'\u001b[39m,\n\u001b[0;32m      5\u001b[0m })\n\u001b[0;32m      7\u001b[0m \u001b[38;5;66;03m# Verify the changes\u001b[39;00m\n\u001b[0;32m      8\u001b[0m \u001b[38;5;28mprint\u001b[39m(G20data\u001b[38;5;241m.\u001b[39mcolumns)\n",
      "\u001b[1;31mNameError\u001b[0m: name 'G20data' is not defined"
     ]
    }
   ],
   "source": [
    "# Rename columns\n",
    "G20data = G20data.rename(columns={\n",
    "    'Tweet': 'TweetNumber',\n",
    "    'Tweet.1': 'TweetContent',\n",
    "})\n",
    "\n",
    "# Verify the changes\n",
    "print(G20data.columns)"
   ]
  },
  {
   "cell_type": "code",
   "execution_count": null,
   "id": "bfdf46a7",
   "metadata": {},
   "outputs": [],
   "source": [
    "# Filter out retweets\n",
    "G20data = G20data[G20data['Is Retweet'] == False]\n",
    "# Remove duplicates based on tweet content\n",
    "G20data = G20data.drop_duplicates(subset=['TweetContent'])\n",
    "# Drop rows where the tweet content is missing\n",
    "G20data = G20data.dropna(subset=['TweetContent'])"
   ]
  },
  {
   "cell_type": "code",
   "execution_count": null,
   "id": "71d26bb9",
   "metadata": {},
   "outputs": [],
   "source": [
    "print(G20data.info())\n",
    "print(G20data.describe())"
   ]
  },
  {
   "cell_type": "code",
   "execution_count": null,
   "id": "088d3b6c",
   "metadata": {},
   "outputs": [],
   "source": [
    "import pandas as pd\n",
    "import re\n",
    "\n",
    "# Male leaders\n",
    "leaders_info = {\n",
    "    \"Mauricio Macri\": [\"Argentina President\", \"Argentinan President\", \"President Argentina\", \"President of Argentina\", \n",
    "                       \"Präsident von Argentinien\", \"Argentinischer Präsident\"],\n",
    "    \"Malcolm Turnbull\": [\"Prime Minister Australia\", \"Australian Prime Minister\", \"Australia Prime Minister\", \"Australian PM\", \"Prime Minister of Australia\",\n",
    "                         \"Australischer Ministerpräsident\", \"Ministerpräsident von Australien\"],\n",
    "    \"Michel Temer\": [\"President Brazil\", \"Brazil President\", \"Brazilian President\", \"President Brazil\",\n",
    "                     \"Präsident von Brasilien\", \"Brasilianischer Präsident\"],\n",
    "    \"Justin Trudeau\": [\"Prime Minister Canada\", \"canadian Prime Minister\", \"Canada Prime Minister\", \"canadian PM\", \"Prime Minister of Canada\",\n",
    "                       \"Kanadischer Ministerpräsident\", \"Ministerpräsident von Kanada\"],\n",
    "    \"Xi Jinping\": [\"President China\", \"Chinese President\", \"China President\", \"President Chinese\", \"President of China\",\n",
    "                   \"Präsident von China\", \"Chinesischer Präsident\"],\n",
    "    \"Emmanuel Macron\": [\"President France\", \"French President\", \"France President\", \"President French\", \"President of France\",\n",
    "                        \"Präsident von Frankreich\", \"Französischer Präsident\"],\n",
    "    \"Narendra Modi\": [\"Prime Minister India\", \"Indian Prime Minister\", \"India Prime Minister\", \"Indian PM\", \"Prime Minister of India\",\n",
    "                      \"Indischer Ministerpräsident\", \"Ministerpräsident von Indien\"],\n",
    "    \"Joko Widodo\": [\"President Indonesia\", \"Indonesian President\", \"Indonesia President\", \"President Indonesian\", \"President of Indonesia\",\n",
    "                    \"Präsident von Indonesien\", \"Indonesischer Präsident\"],\n",
    "    \"Paolo Gentiloni\": [\"Prime Minister Italy\", \"Italian Prime Minister\", \"Italy Prime Minister\", \"Italian PM\", \"Prime Minister of Italy\",\n",
    "                        \"Italienischer Ministerpräsident\", \"Ministerpräsident von Italien\"],\n",
    "    \"Shinzō Abe\": [\"Prime Minister Japan\", \"Japanese Prime Minister\", \"Japan Prime Minister\", \"Japanese PM\", \"Prime Minister of Japan\",\n",
    "                   \"Japanischer Ministerpräsident\", \"Ministerpräsident von Japan\"],\n",
    "    \"Enrique Peña Nieto\": [\"President Mexico\", \"Mexican President\", \"Mexico President\", \"President Mexican\", \"President of Mexico\",\n",
    "                           \"Präsident von Mexiko\", \"Mexikanischer Präsident\"],\n",
    "    \"Vladimir Putin\": [\"President Russia\", \"Russian President\", \"Russia President\", \"President Russian\", \"President of Russia\",\n",
    "                       \"Russischer Präsident\", \"Präsident von Russland\"],\n",
    "    \"Ibrahim Abdulaziz Al-Assaf\": [\"State Minister Saudi Arabia\", \"Saudi Arabia State Minister\", \"State Minister of Saudi Arabia\",\n",
    "                                   \"Staatsminister von Saudi-Arabien\"],\n",
    "    \"Moon Jae-in\": [\"President South Korea\", \"South Korean President\", \"South Korea President\", \"President South Korean\", \"President of South Korea\",\n",
    "                    \"Präsident von Südkorea\", \"Südkoreanischer Präsident\"],\n",
    "    \"Jacob Zuma\": [\"President South African\", \"South Africa President\", \"South Africa President\", \"President South African\", \"President of South Africa\",\n",
    "                   \"Präsident von Südafrika\", \"Südafrikanischer Präsident\"],\n",
    "    \"Recep Tayyip Erdoğan\": [\"President Turkey\", \"Turkish President\", \"Turkey President\", \"President Turkish\", \"President of Turkey\",\n",
    "                             \"Türkischer Präsident\", \"Präsident von der Türkei\"],\n",
    "    \"Donald Trump\": [\"US President\", \"President USA\", \"USA President\", \"US President\", \"President of America\", \"President of USA\",\n",
    "                     \"US-Präsident\", \"Präsident der USA\"],\n",
    "    \"Mark Rutte\": [\"Prime Minister Netherlands\", \"Dutch Prime Minister\", \"Dutch PM\", \"Prime Minister of Netherlands\",\n",
    "                   \"Niederländischer Ministerpräsident\", \"Ministerpräsident der Niederlande\"],\n",
    "    \"Macky Sall\": [\"President Senegal\", \"Senegalese President\", \"Senegal President\", \"President Senegalese\", \"President of Senegal\",\n",
    "                   \"Präsident von Senegal\", \"Senegalesischer Präsident\"],\n",
    "    \"Mariano Rajoy\": [\"Prime Minister Spain\", \"Spanish Prime Minister\", \"Spain Prime Minister\", \"Spanish PM\", \"Prime Minister of Spain\",\n",
    "                      \"Spanischer Ministerpräsident\", \"Ministerpräsident von Spanien\"],\n",
    "    \"Lee Hsien Loong\": [\"Prime Minister Singapore\", \"Singaporean Prime Minister\", \"Singapore Prime Minister\", \"Singaporean PM\", \"Prime Minister of Singapore\",\n",
    "                        \"Singapurischer Ministerpräsident\", \"Ministerpräsident von Singapur\"],\n",
    "    \"Nguyễn Xuân Phúc\": [\"Prime Minister Vietnam\", \"Vietnamese Prime Minister\", \"Vietnam Prime Minister\", \"Vietnamese PM\", \"Prime Minister of Vietnam\",\n",
    "                         \"Vietnamesischer Ministerpräsident\", \"Ministerpräsident von Vietnam\"]\n",
    "}\n",
    "\n",
    "# Expand the list to include common variations and titles\n",
    "expanded_leaders = []\n",
    "for leader, titles in leaders_info.items():\n",
    "    first_name, *rest = leader.split()\n",
    "    last_name = rest[-1] if rest else ''\n",
    "    expanded_leaders.extend([\n",
    "        leader,                      \n",
    "        f\"{first_name}'s\",           \n",
    "        f\"{last_name}'s\",            \n",
    "        first_name,                 \n",
    "        last_name                    \n",
    "    ] + titles)\n",
    "\n",
    "# Create a regex pattern to match any leader name or title\n",
    "pattern = '|'.join(re.escape(leader) for leader in set(expanded_leaders))\n",
    "\n",
    "# Filter tweets that mention any of the leaders\n",
    "G20data['mentions_leader'] = G20data['TweetContent'].apply(lambda x: bool(re.search(pattern, x, flags=re.IGNORECASE)))\n",
    "\n",
    "filtered_tweets = G20data[G20data['mentions_leader']]\n",
    "filtered_tweets.to_csv('G20data_with_leader_mentions.csv', index=False)\n",
    "\n",
    "print(filtered_tweets.head())\n"
   ]
  },
  {
   "cell_type": "markdown",
   "id": "baa32b06",
   "metadata": {},
   "source": [
    "## 1.2. Filtering female leaders "
   ]
  },
  {
   "cell_type": "code",
   "execution_count": null,
   "id": "82d9a1b3",
   "metadata": {},
   "outputs": [],
   "source": [
    "# Female leaders\n",
    "FemaleLeaders = [\n",
    "    \"Ivanka Trump\", \"Ivanka\", \"Trump’s daughter\", \"Trump daughter\" \"Theresa May\", \"Theresa\", \"Theresa's\", \"Theresa May's\", \"Theresa May's\", \"UK Prime Minister\", \"UK PM\",\n",
    "    \"Erna Solberg\", \"Erna Solberg's\", \"Erna's\", \"Solberg's\", \"Erna\", \"Solberg\", \"Norwegian prime minister\", \"Norwegian PM\", \"Angela Merkel\", \"Angela\", \"Merkel\", \"Angela Merkel's\", \"Merkel's\", \"Angela's\",\n",
    "    \"Chancellor of Germany\", \"Chancellor\", \"Trump's Tochter\", \"Trump Tochter\" \"Premierminister des Vereinigten Königreichs\", \"UK Premierminister\",\n",
    "    \"Norwegischer Premierminister\", \"Bundeskanzlerin von Deutschland\", \"Bundeskanzlerin Deutschlands\",\n",
    "    \"Bundeskanzler\", \n",
    "]"
   ]
  },
  {
   "cell_type": "code",
   "execution_count": null,
   "id": "6df02e54",
   "metadata": {},
   "outputs": [],
   "source": [
    "\n",
    "def adjust_umlauts_and_specials(keyword):\n",
    "    # Replace German umlauts and sharp S\n",
    "    replacements = {\n",
    "        'ä': '(ae|ä)',\n",
    "        'ö': '(oe|ö)',\n",
    "        'ü': '(ue|ü)',\n",
    "        'ß': '(ss|ß)'\n",
    "    }\n",
    "    for german_char, replacement in replacements.items():\n",
    "        keyword = re.sub(re.escape(german_char), replacement, keyword, flags=re.IGNORECASE)\n",
    "    return keyword\n",
    "\n",
    "def enhance_keyword_regex(keyword):\n",
    "    keyword = adjust_umlauts_and_specials(keyword)\n",
    "    \n",
    "    keyword = re.escape(keyword)\n",
    "    \n",
    "    keyword = keyword.replace(r'\\ ', r'\\s*')\n",
    "    \n",
    "    # Make certain punctuations optional\n",
    "    punctuations = [\"'\", \"-\", \".\"]  \n",
    "    for punct in punctuations:\n",
    "        keyword = keyword.replace(re.escape(punct), re.escape(punct) + '?')\n",
    "    \n",
    "    return keyword\n",
    "\n",
    "regex_pattern = r'\\b(' + '|'.join(enhance_keyword_regex(keyword) for keyword in FemaleLeaders) + r')\\b'"
   ]
  },
  {
   "cell_type": "code",
   "execution_count": null,
   "id": "b3c3c74c",
   "metadata": {},
   "outputs": [],
   "source": [
    "G20data['matches'] = G20data['TweetContent'].str.contains(regex_pattern, case=False, na=False)\n",
    "filtered_G20data = G20data[G20data['matches']]\n",
    "\n",
    "filtered_G20data.to_csv('G20_filtered_female_leaders.csv', index=False)\n",
    "\n",
    "print(filtered_G20data[['TweetContent']].head())"
   ]
  },
  {
   "cell_type": "markdown",
   "id": "d9a8c29b",
   "metadata": {},
   "source": [
    "## 2. Translating G20 male leaders dataset"
   ]
  },
  {
   "cell_type": "code",
   "execution_count": null,
   "id": "52613fd1",
   "metadata": {},
   "outputs": [],
   "source": [
    "Mpoliticians = pd.read_csv('G20data_with_leader_mentions.csv')\n",
    "\n",
    "print(Mpoliticians.head())\n",
    "\n",
    "print(Mpoliticians.info())\n",
    "print(Mpoliticians['Tweet Language'].value_counts())"
   ]
  },
  {
   "cell_type": "code",
   "execution_count": null,
   "id": "cf4aca04",
   "metadata": {},
   "outputs": [],
   "source": [
    "Mpoliticians_Ger = Mpoliticians[Mpoliticians['Tweet Language'] == 'de']"
   ]
  },
  {
   "cell_type": "code",
   "execution_count": null,
   "id": "abe8afd4",
   "metadata": {},
   "outputs": [],
   "source": [
    "Mpoliticians_Ger = Mpoliticians_Ger.copy()"
   ]
  },
  {
   "cell_type": "code",
   "execution_count": null,
   "id": "04d31127",
   "metadata": {},
   "outputs": [],
   "source": [
    "import time\n",
    "from googletrans import Translator, constants\n",
    "\n",
    "translator = Translator()\n",
    "\n",
    "def translate_text(text, lang='en', max_retries=5):\n",
    "    \"\"\"Attempt to translate text with retries on failure.\"\"\"\n",
    "    for attempt in range(max_retries):\n",
    "        try:\n",
    "            translation = translator.translate(text, dest=lang)\n",
    "            return translation.text\n",
    "        except Exception as e:\n",
    "            print(f\"Attempt {attempt + 1} failed with error: {e}\")\n",
    "            time.sleep(2)  \n",
    "            if attempt == max_retries - 1:\n",
    "                return text  \n",
    "def safe_translate(text):\n",
    "    \"\"\"A safe translation function that defaults to the original text on failure.\"\"\"\n",
    "    return translate_text(text, 'en')\n",
    "\n",
    "import pandas as pd\n",
    "Mpoliticians = pd.read_csv('G20data_with_leader_mentions.csv')\n",
    "Mpoliticians_Ger = Mpoliticians[Mpoliticians['Tweet Language'] == 'de'].copy()\n",
    "\n",
    "Mpoliticians_Ger['translated_text'] = Mpoliticians_Ger['TweetContent'].apply(safe_translate)\n",
    "\n",
    "print(Mpoliticians_Ger[['TweetContent', 'translated_text']].head())\n"
   ]
  },
  {
   "cell_type": "code",
   "execution_count": null,
   "id": "4b24c03e",
   "metadata": {},
   "outputs": [],
   "source": [
    "print(Mpoliticians_Ger[['TweetContent', 'translated_text']].head())\n",
    "print(Mpoliticians_Ger[['TweetContent', 'translated_text']].info())"
   ]
  },
  {
   "cell_type": "code",
   "execution_count": null,
   "id": "6de0c417",
   "metadata": {},
   "outputs": [],
   "source": [
    "Mpoliticians_Ger.to_csv('MPoliticianTranslation.csv', index=False)"
   ]
  },
  {
   "cell_type": "code",
   "execution_count": null,
   "id": "e551db92",
   "metadata": {},
   "outputs": [],
   "source": [
    "import pandas as pd\n",
    "\n",
    "Mp_translation = pd.read_csv('MPoliticianTranslation.csv')"
   ]
  },
  {
   "cell_type": "code",
   "execution_count": null,
   "id": "edceb1ec",
   "metadata": {},
   "outputs": [],
   "source": [
    "print(Mp_translation.head())"
   ]
  },
  {
   "cell_type": "markdown",
   "id": "8810f3cf",
   "metadata": {},
   "source": [
    "### 2.1. Merge translated tweets back with Engslish tweets"
   ]
  },
  {
   "cell_type": "code",
   "execution_count": null,
   "id": "2aa24885",
   "metadata": {},
   "outputs": [],
   "source": [
    "import pandas as pd\n",
    "\n",
    "merged_data = pd.merge(Mpoliticians, Mp_translation[['UniqueID', 'Sheet#', 'TweetNumber', 'translated_text']], on=['UniqueID', 'Sheet#', 'TweetNumber'], how='left')\n",
    "\n",
    "merged_data['TweetContent'] = merged_data['translated_text'].fillna(merged_data['TweetContent'])\n",
    "\n",
    "merged_data.drop(columns=['translated_text'], inplace=True)\n",
    "\n",
    "print(merged_data.head())\n",
    "\n"
   ]
  },
  {
   "cell_type": "code",
   "execution_count": null,
   "id": "f3572715",
   "metadata": {},
   "outputs": [],
   "source": [
    "merged_data.to_csv('MalePoliticians.csv', index=False)\n",
    "\n",
    "MalePoliticians = pd.read_csv('MalePoliticians.csv')\n",
    "\n",
    "print(MalePoliticians.head())\n"
   ]
  },
  {
   "cell_type": "markdown",
   "id": "c995f934",
   "metadata": {},
   "source": [
    "# 3. Preprocessing G20 male leaders dataset"
   ]
  },
  {
   "cell_type": "code",
   "execution_count": null,
   "id": "4f7c9fb6",
   "metadata": {},
   "outputs": [],
   "source": [
    "import nltk\n",
    "nltk.download('wordnet')  # For lemmatisation\n",
    "nltk.download('punkt')    # For tokenisation\n",
    "nltk.download('stopwords')  # For stopwords\n",
    "import re\n",
    "from nltk.stem import WordNetLemmatizer\n",
    "from nltk.corpus import stopwords\n",
    "from nltk.tokenize import word_tokenize"
   ]
  },
  {
   "cell_type": "code",
   "execution_count": null,
   "id": "b0f43cd8",
   "metadata": {},
   "outputs": [],
   "source": [
    "stop_words = set(stopwords.words('english'))\n",
    "\n",
    "lemmatizer = WordNetLemmatizer()\n",
    "\n",
    "def preprocess_text(text):\n",
    "    text = text.lower()\n",
    "\n",
    "    text = re.sub(r'http\\S+', 'URL', text)\n",
    "\n",
    "    text = re.sub(r'[^a-z\\s#@]', '', text)\n",
    "\n",
    "    text = re.sub(r'\\s+', ' ', text).strip()\n",
    "    \n",
    "    text = re.sub(r'#(\\w+)', r'<hashtag> \\1 </hashtag>', text)\n",
    "\n",
    "    text = re.sub(r'@(\\w+)', r'<mention> \\1 </mention>', text)\n",
    "\n",
    "    return text\n",
    "\n",
    "def lemmatize_text(text):\n",
    "    tokens = text.split()\n",
    "\n",
    "    lemmatized_tokens = []\n",
    "\n",
    "    special_tags = {'<hashtag>', '</hashtag>', '<mention>', '</mention>'}\n",
    "\n",
    "    for token in tokens:\n",
    "        if token in special_tags:\n",
    "            lemmatized_tokens.append(token)\n",
    "        else:\n",
    "            if token not in stop_words and token.isalpha():\n",
    "                lemmatized_token = lemmatizer.lemmatize(token)\n",
    "                lemmatized_tokens.append(lemmatized_token)\n",
    "\n",
    "    lemmatized_text = ' '.join(lemmatized_tokens)\n",
    "    \n",
    "    return lemmatized_text"
   ]
  },
  {
   "cell_type": "code",
   "execution_count": null,
   "id": "f5d89681",
   "metadata": {},
   "outputs": [],
   "source": [
    "\n",
    "MalePoliticians = pd.read_csv('MalePoliticians.csv')\n",
    "\n",
    "MalePoliticians['cleaned_text'] = MalePoliticians['TweetContent'].apply(preprocess_text)\n",
    "MalePoliticians['lemmatized_text'] = MalePoliticians['cleaned_text'].apply(lemmatize_text)\n",
    "\n",
    "\n",
    "print(MalePoliticians[['TweetContent', 'cleaned_text', 'lemmatized_text']].head())\n"
   ]
  },
  {
   "cell_type": "code",
   "execution_count": null,
   "id": "eba15a51",
   "metadata": {},
   "outputs": [],
   "source": [
    "MalePoliticians.to_csv('MalePoliticiansCLEAN.csv', index=False)"
   ]
  },
  {
   "cell_type": "code",
   "execution_count": null,
   "id": "d168c870",
   "metadata": {},
   "outputs": [],
   "source": [
    "MPPP = pd.read_csv('MalePoliticiansCLEAN.csv')\n",
    "print(MPPP.head())"
   ]
  },
  {
   "cell_type": "code",
   "execution_count": null,
   "id": "66a25ce8",
   "metadata": {},
   "outputs": [],
   "source": [
    "# Dictionary of male leaders and associated titles\n",
    "leaders_info = {\n",
    "    \"Mauricio Macri\": [\"Argentina President\", \"Argentinan President\", \"President Argentina\", \"President of Argentina\", \n",
    "                       \"Präsident von Argentinien\", \"Argentinischer Präsident\"],\n",
    "    \"Malcolm Turnbull\": [\"Prime Minister Australia\", \"Australian Prime Minister\", \"Australia Prime Minister\", \"Australian PM\", \"Prime Minister of Australia\",\n",
    "                         \"Australischer Ministerpräsident\", \"Ministerpräsident von Australien\"],\n",
    "    \"Michel Temer\": [\"President Brazil\", \"Brazil President\", \"Brazilian President\", \"President Brazil\",\n",
    "                     \"Präsident von Brasilien\", \"Brasilianischer Präsident\"],\n",
    "    \"Justin Trudeau\": [\"Prime Minister Canada\", \"canadian Prime Minister\", \"Canada Prime Minister\", \"canadian PM\", \"Prime Minister of Canada\",\n",
    "                       \"Kanadischer Ministerpräsident\", \"Ministerpräsident von Kanada\"],\n",
    "    \"Xi Jinping\": [\"President China\", \"Chinese President\", \"China President\", \"President Chinese\", \"President of China\",\n",
    "                   \"Präsident von China\", \"Chinesischer Präsident\"],\n",
    "    \"Emmanuel Macron\": [\"President France\", \"French President\", \"France President\", \"President French\", \"President of France\",\n",
    "                        \"Präsident von Frankreich\", \"Französischer Präsident\"],\n",
    "    \"Narendra Modi\": [\"Prime Minister India\", \"Indian Prime Minister\", \"India Prime Minister\", \"Indian PM\", \"Prime Minister of India\",\n",
    "                      \"Indischer Ministerpräsident\", \"Ministerpräsident von Indien\"],\n",
    "    \"Joko Widodo\": [\"President Indonesia\", \"Indonesian President\", \"Indonesia President\", \"President Indonesian\", \"President of Indonesia\",\n",
    "                    \"Präsident von Indonesien\", \"Indonesischer Präsident\"],\n",
    "    \"Paolo Gentiloni\": [\"Prime Minister Italy\", \"Italian Prime Minister\", \"Italy Prime Minister\", \"Italian PM\", \"Prime Minister of Italy\",\n",
    "                        \"Italienischer Ministerpräsident\", \"Ministerpräsident von Italien\"],\n",
    "    \"Shinzō Abe\": [\"Prime Minister Japan\", \"Japanese Prime Minister\", \"Japan Prime Minister\", \"Japanese PM\", \"Prime Minister of Japan\",\n",
    "                   \"Japanischer Ministerpräsident\", \"Ministerpräsident von Japan\"],\n",
    "    \"Enrique Peña Nieto\": [\"President Mexico\", \"Mexican President\", \"Mexico President\", \"President Mexican\", \"President of Mexico\",\n",
    "                           \"Präsident von Mexiko\", \"Mexikanischer Präsident\"],\n",
    "    \"Vladimir Putin\": [\"President Russia\", \"Russian President\", \"Russia President\", \"President Russian\", \"President of Russia\",\n",
    "                       \"Russischer Präsident\", \"Präsident von Russland\"],\n",
    "    \"Ibrahim Abdulaziz Al-Assaf\": [\"State Minister Saudi Arabia\", \"Saudi Arabia State Minister\", \"State Minister of Saudi Arabia\",\n",
    "                                   \"Staatsminister von Saudi-Arabien\"],\n",
    "    \"Moon Jae-in\": [\"President South Korea\", \"South Korean President\", \"South Korea President\", \"President South Korean\", \"President of South Korea\",\n",
    "                    \"Präsident von Südkorea\", \"Südkoreanischer Präsident\"],\n",
    "    \"Jacob Zuma\": [\"President South African\", \"South Africa President\", \"South Africa President\", \"President South African\", \"President of South Africa\",\n",
    "                   \"Präsident von Südafrika\", \"Südafrikanischer Präsident\"],\n",
    "    \"Recep Tayyip Erdoğan\": [\"President Turkey\", \"Turkish President\", \"Turkey President\", \"President Turkish\", \"President of Turkey\",\n",
    "                             \"Türkischer Präsident\", \"Präsident von der Türkei\"],\n",
    "    \"Donald Trump\": [\"US President\", \"President USA\", \"USA President\", \"US President\", \"President of America\", \"President of USA\",\n",
    "                     \"US-Präsident\", \"Präsident der USA\"],\n",
    "    \"Mark Rutte\": [\"Prime Minister Netherlands\", \"Dutch Prime Minister\", \"Dutch PM\", \"Prime Minister of Netherlands\",\n",
    "                   \"Niederländischer Ministerpräsident\", \"Ministerpräsident der Niederlande\"],\n",
    "    \"Macky Sall\": [\"President Senegal\", \"Senegalese President\", \"Senegal President\", \"President Senegalese\", \"President of Senegal\",\n",
    "                   \"Präsident von Senegal\", \"Senegalesischer Präsident\"],\n",
    "    \"Mariano Rajoy\": [\"Prime Minister Spain\", \"Spanish Prime Minister\", \"Spain Prime Minister\", \"Spanish PM\", \"Prime Minister of Spain\",\n",
    "                      \"Spanischer Ministerpräsident\", \"Ministerpräsident von Spanien\"],\n",
    "    \"Lee Hsien Loong\": [\"Prime Minister Singapore\", \"Singaporean Prime Minister\", \"Singapore Prime Minister\", \"Singaporean PM\", \"Prime Minister of Singapore\",\n",
    "                        \"Singapurischer Ministerpräsident\", \"Ministerpräsident von Singapur\"],\n",
    "    \"Nguyễn Xuân Phúc\": [\"Prime Minister Vietnam\", \"Vietnamese Prime Minister\", \"Vietnam Prime Minister\", \"Vietnamese PM\", \"Prime Minister of Vietnam\",\n",
    "                         \"Vietnamesischer Ministerpräsident\", \"Ministerpräsident von Vietnam\"]\n",
    "}\n",
    "\n",
    "for leader, titles in leaders_info.items():\n",
    "    first_name, *rest = leader.split()\n",
    "    last_name = rest[-1] if rest else ''\n",
    "    variations = [leader, f\"{first_name}'s\", f\"{last_name}'s\", first_name, last_name] + titles\n",
    "    pattern = '|'.join(re.escape(term) for term in variations)\n",
    "    regex = re.compile(pattern, re.IGNORECASE)\n",
    "    \n",
    "    MPPP[leader] = MPPP['UniqueContent'].apply(lambda x: bool(regex.search(x)))\n",
    "\n",
    "# Calculate the number of tweets mentioning each leader\n",
    "leader_counts = {leader: MPPP[leader].sum() for leader in leaders_info}\n",
    "print(leader_counts)"
   ]
  },
  {
   "cell_type": "markdown",
   "id": "f7296194",
   "metadata": {},
   "source": [
    "# 4. Sentiment Analysis for male leaders"
   ]
  },
  {
   "cell_type": "code",
   "execution_count": null,
   "id": "18f65ddb",
   "metadata": {},
   "outputs": [],
   "source": [
    "import nltk\n",
    "from nltk.sentiment import SentimentIntensityAnalyzer\n",
    "\n",
    "nltk.download('vader_lexicon')\n",
    "\n",
    "sia = SentimentIntensityAnalyzer()\n",
    "\n",
    "# Function to classify sentiment based on compound score\n",
    "def classify_sentiment(text):\n",
    "    score = sia.polarity_scores(text)['compound']\n",
    "    if score > 0.05:\n",
    "        return 'positive'\n",
    "    elif score < -0.05:\n",
    "        return 'negative'\n",
    "    else:\n",
    "        return 'neutral'\n",
    "\n",
    "MPPP['sentiment'] = MPPP['lemmatized_text'].apply(classify_sentiment)\n",
    "\n",
    "print(MPPP[['lemmatized_text', 'sentiment']])\n"
   ]
  },
  {
   "cell_type": "code",
   "execution_count": null,
   "id": "8c031475",
   "metadata": {},
   "outputs": [],
   "source": [
    "# Count sentiments by male leader\n",
    "\n",
    "leaders_list = [\n",
    "    \"Mauricio Macri\", \"Malcolm Turnbull\", \"Michel Temer\", \"Justin Trudeau\",\n",
    "    \"Xi Jinping\", \"Emmanuel Macron\", \"Narendra Modi\", \"Joko Widodo\",\n",
    "    \"Paolo Gentiloni\", \"Shinzō Abe\", \"Enrique Peña Nieto\", \"Vladimir Putin\",\n",
    "    \"Ibrahim Abdulaziz Al-Assaf\", \"Moon Jae-in\", \"Jacob Zuma\",\n",
    "    \"Recep Tayyip Erdoğan\", \"Donald Trump\", \"Mark Rutte\", \"Macky Sall\",\n",
    "    \"Mariano Rajoy\", \"Lee Hsien Loong\", \"Nguyễn Xuân Phúc\"\n",
    "]\n",
    "\n",
    "sentiment_data = []\n",
    "\n",
    "for leader in leaders_list:\n",
    "    filtered_mpp = MPPP[MPPP[leader] == True]\n",
    "    positive_count = filtered_mpp['sentiment'].value_counts().get('positive', 0)\n",
    "    neutral_count = filtered_mpp['sentiment'].value_counts().get('neutral', 0)\n",
    "    negative_count = filtered_mpp['sentiment'].value_counts().get('negative', 0)\n",
    "    \n",
    "    sentiment_data.append({\n",
    "        'Leader': leader,\n",
    "        'Positive': positive_count,\n",
    "        'Neutral': neutral_count,\n",
    "        'Negative': negative_count\n",
    "    })\n",
    "\n",
    "sentiment_counts = pd.DataFrame(sentiment_data)\n",
    "\n",
    "print(sentiment_counts)\n"
   ]
  },
  {
   "cell_type": "code",
   "execution_count": null,
   "id": "08d556cd",
   "metadata": {},
   "outputs": [],
   "source": [
    "print(MPPP.info())"
   ]
  },
  {
   "cell_type": "markdown",
   "id": "138cc9ac",
   "metadata": {},
   "source": [
    "# 5. Sentiment Analysis for female leaders"
   ]
  },
  {
   "cell_type": "code",
   "execution_count": null,
   "id": "38ad397a",
   "metadata": {},
   "outputs": [],
   "source": [
    "FPPP = pd.read_csv('G20_CAT.csv')"
   ]
  },
  {
   "cell_type": "code",
   "execution_count": null,
   "id": "b245a0eb",
   "metadata": {},
   "outputs": [],
   "source": [
    "# Apply sentiment analysis on female leaders\n",
    "FPPP['sentiment'] = FPPP['lemmatized_text'].apply(classify_sentiment)\n",
    "\n",
    "print(FPPP[['lemmatized_text', 'sentiment']].head())"
   ]
  },
  {
   "cell_type": "code",
   "execution_count": null,
   "id": "992c3dae",
   "metadata": {},
   "outputs": [],
   "source": [
    "print(FPPP.head())\n",
    "print(FPPP.info())"
   ]
  },
  {
   "cell_type": "markdown",
   "id": "099e51ad",
   "metadata": {},
   "source": [
    "# 6. Merge male and female leaders datasets"
   ]
  },
  {
   "cell_type": "code",
   "execution_count": null,
   "id": "39286754",
   "metadata": {},
   "outputs": [],
   "source": [
    "import pandas as pd\n",
    "\n",
    "merged_data = pd.merge(MPPP, FPPP, on='UniqueID', how='outer', suffixes=('_MPPP', '_FPPP'))\n",
    "\n",
    "print(merged_data.head())\n",
    "\n",
    "print(merged_data.info())\n"
   ]
  },
  {
   "cell_type": "code",
   "execution_count": null,
   "id": "2a187097",
   "metadata": {},
   "outputs": [],
   "source": [
    "merged_data.to_csv('4sentimentAnalysis.csv', index=False)"
   ]
  },
  {
   "cell_type": "code",
   "execution_count": null,
   "id": "72f4c202",
   "metadata": {},
   "outputs": [],
   "source": [
    "APPP = pd.read_csv('4sentimentAnalysis.csv')\n",
    "print(APPP.info())"
   ]
  },
  {
   "cell_type": "markdown",
   "id": "f7440deb",
   "metadata": {},
   "source": [
    "# 7. Compare sentiments between male and female leaders"
   ]
  },
  {
   "cell_type": "code",
   "execution_count": null,
   "id": "12c8cc97",
   "metadata": {},
   "outputs": [],
   "source": [
    "import pandas as pd\n",
    "\n",
    "# Define leader categories by gender\n",
    "male_leaders = [\n",
    "    \"Mauricio Macri\", \"Malcolm Turnbull\", \"Michel Temer\", \"Justin Trudeau\",\n",
    "    \"Xi Jinping\", \"Emmanuel Macron\", \"Narendra Modi\", \"Joko Widodo\",\n",
    "    \"Paolo Gentiloni\", \"Shinzō Abe\", \"Enrique Peña Nieto\", \"Vladimir Putin\",\n",
    "    \"Ibrahim Abdulaziz Al-Assaf\", \"Moon Jae-in\", \"Jacob Zuma\",\n",
    "    \"Recep Tayyip Erdoğan\", \"Donald Trump\", \"Mark Rutte\", \"Macky Sall\",\n",
    "    \"Mariano Rajoy\", \"Lee Hsien Loong\", \"Nguyễn Xuân Phúc\"\n",
    "]\n",
    "\n",
    "female_leaders = [\"angela_merkel\", \"theresa_may\", \"erna_solberg\"]\n"
   ]
  },
  {
   "cell_type": "code",
   "execution_count": null,
   "id": "16cd2652",
   "metadata": {},
   "outputs": [],
   "source": [
    "# Identify non-overlapping tweets\n",
    "unique_mppp = APPP[APPP['sentiment_FPPP'].isna() & APPP['sentiment_MPPP'].notna()]\n",
    "\n",
    "unique_fppp = APPP[APPP['sentiment_MPPP'].isna() & APPP['sentiment_FPPP'].notna()]\n",
    "\n",
    "# Function to count sentiments\n",
    "def count_sentiments(df, sentiment_column):\n",
    "    # Initialize sentiment counts\n",
    "    sentiments = {'positive': 0, 'neutral': 0, 'negative': 0}\n",
    "    # Count each type of sentiment\n",
    "    if sentiment_column in df.columns:\n",
    "        for key in sentiments.keys():\n",
    "            sentiments[key] = df[df[sentiment_column] == key].shape[0]\n",
    "    return sentiments\n",
    "\n",
    "# Count sentiments for MPPP and FPPP\n",
    "mppp_sentiments = count_sentiments(unique_mppp, 'sentiment_MPPP')\n",
    "fppp_sentiments = count_sentiments(unique_fppp, 'sentiment_FPPP')\n",
    "\n",
    "print(\"Unique MPPP Sentiments:\", mppp_sentiments)\n",
    "print(\"Unique FPPP Sentiments:\", fppp_sentiments)\n"
   ]
  },
  {
   "cell_type": "code",
   "execution_count": null,
   "id": "5cf3f550",
   "metadata": {},
   "outputs": [],
   "source": [
    "# Define a function to calculate percentages from sentiment counts\n",
    "def calculate_percentages(sentiment_counts):\n",
    "    total = sum(sentiment_counts.values())\n",
    "    if total == 0:\n",
    "        return {sentiment: 0 for sentiment in sentiment_counts} \n",
    "    percentages = {sentiment: (count / total * 100) for sentiment, count in sentiment_counts.items()}\n",
    "    return percentages\n",
    "\n",
    "mppp_percentages = calculate_percentages(mppp_sentiments)  \n",
    "fppp_percentages = calculate_percentages(fppp_sentiments)  \n",
    "\n",
    "print(\"Percentages of Sentiments for MPPP Tweets:\")\n",
    "for sentiment, percentage in mppp_percentages.items():\n",
    "    print(f\"{sentiment.capitalize()}: {percentage:.2f}%\")\n",
    "\n",
    "print(\"\\nPercentages of Sentiments for FPPP Tweets:\")\n",
    "for sentiment, percentage in fppp_percentages.items():\n",
    "    print(f\"{sentiment.capitalize()}: {percentage:.2f}%\")\n"
   ]
  },
  {
   "cell_type": "code",
   "execution_count": null,
   "id": "e69c47d0",
   "metadata": {},
   "outputs": [],
   "source": [
    "import numpy as np\n",
    "from statsmodels.stats.proportion import proportions_ztest\n",
    "\n",
    "# Sentiment counts\n",
    "mppp_sentiments = {'positive': 10158, 'neutral': 10878, 'negative': 9950}\n",
    "fppp_sentiments = {'positive': 1444, 'neutral': 1202, 'negative': 1354}\n",
    "\n",
    "# Total tweets in each category\n",
    "mppp_total = sum(mppp_sentiments.values())\n",
    "fppp_total = sum(fppp_sentiments.values())\n",
    "\n",
    "# Lists to hold results\n",
    "sentiments = ['positive', 'neutral', 'negative']\n",
    "results = []\n",
    "\n",
    "# Perform z-tests for each sentiment category\n",
    "for sentiment in sentiments:\n",
    "    count = np.array([mppp_sentiments[sentiment], fppp_sentiments[sentiment]])\n",
    "    nobs = np.array([mppp_total, fppp_total])\n",
    "    stat, pval = proportions_ztest(count, nobs)\n",
    "    results.append((sentiment, stat, pval))\n",
    "\n",
    "for result in results:\n",
    "    sentiment, stat, pval = result\n",
    "    print(f\"{sentiment.capitalize()} Sentiment:\")\n",
    "    print(f\"Z-statistic: {stat:.2f}\")\n",
    "    print(f\"P-value: {pval:.4f}\")\n",
    "    if pval < 0.05:\n",
    "        print(f\"The difference in {sentiment} sentiment between MPPP and FPPP is statistically significant.\")\n",
    "    else:\n",
    "        print(f\"No significant difference in {sentiment} sentiment between MPPP and FPPP.\")\n",
    "    print()\n"
   ]
  },
  {
   "cell_type": "markdown",
   "id": "4a4d490e",
   "metadata": {},
   "source": [
    "# 8. Descriptive Statistics and Visualisations"
   ]
  },
  {
   "cell_type": "code",
   "execution_count": null,
   "id": "3fcf3372",
   "metadata": {},
   "outputs": [],
   "source": [
    "leader_columns = ['angela_merkel', 'theresa_may', 'erna_solberg']\n",
    "\n",
    "tweets_mentioning_any_leader = APPP[APPP[leader_columns].any(axis=1)]\n",
    "\n",
    "num_tweets_mentioning_any = tweets_mentioning_any_leader.shape[0]\n",
    "\n",
    "print(f\"Number of tweets mentioning any of Angela Merkel, Theresa May, or Erna Solberg: {num_tweets_mentioning_any}\")\n"
   ]
  },
  {
   "cell_type": "code",
   "execution_count": null,
   "id": "4eec54a1",
   "metadata": {},
   "outputs": [],
   "source": [
    "tweets_mentioning_leaders = APPP[APPP[leader_columns].any(axis=1)]\n",
    "tweets_by_language = tweets_mentioning_leaders.groupby('Tweet Language_FPPP').size()\n",
    "\n",
    "print(\"Number of tweets mentioning any of Angela Merkel, Theresa May, or Erna Solberg, by language:\")\n",
    "print(tweets_by_language)"
   ]
  },
  {
   "cell_type": "code",
   "execution_count": null,
   "id": "a20488ea",
   "metadata": {},
   "outputs": [],
   "source": [
    "# Count individual mentions within the filtered tweets\n",
    "angela_mentions = tweets_mentioning_any_leader['angela_merkel'].sum()\n",
    "theresa_mentions = tweets_mentioning_any_leader['theresa_may'].sum()\n",
    "erna_mentions = tweets_mentioning_any_leader['erna_solberg'].sum()\n",
    "\n",
    "print(f\"Angela Merkel was mentioned in {angela_mentions} tweets.\")\n",
    "print(f\"Theresa May was mentioned in {theresa_mentions} tweets.\")\n",
    "print(f\"Erna Solberg was mentioned in {erna_mentions} tweets.\")"
   ]
  },
  {
   "cell_type": "code",
   "execution_count": null,
   "id": "1748a72c",
   "metadata": {},
   "outputs": [],
   "source": [
    "# Sentiment distribution\n",
    "sentiment_distribution = unique_mppp['sentiment_MPPP'].value_counts()\n",
    "\n",
    "print(\"\\nSentiment Distribution in MPPP Tweets:\")\n",
    "print(sentiment_distribution)\n"
   ]
  },
  {
   "cell_type": "code",
   "execution_count": null,
   "id": "998b32fa",
   "metadata": {},
   "outputs": [],
   "source": [
    "unique_mppp.to_csv('unique_mppp.csv', index=False)\n",
    "unique_mppp2 = pd.read_csv('unique_mppp.csv') "
   ]
  },
  {
   "cell_type": "code",
   "execution_count": null,
   "id": "04746fa9",
   "metadata": {},
   "outputs": [],
   "source": [
    "columns_to_check = [\n",
    "    \"Mauricio Macri\", \"Malcolm Turnbull\", \"Michel Temer\", \"Justin Trudeau\",\n",
    "    \"Xi Jinping\", \"Emmanuel Macron\", \"Narendra Modi\", \"Joko Widodo\",\n",
    "    \"Paolo Gentiloni\", \"Shinzō Abe\", \"Enrique Peña Nieto\", \"Vladimir Putin\",\n",
    "    \"Ibrahim Abdulaziz Al-Assaf\", \"Moon Jae-in\", \"Jacob Zuma\",\n",
    "    \"Recep Tayyip Erdoğan\", \"Donald Trump\", \"Mark Rutte\", \"Macky Sall\",\n",
    "    \"Mariano Rajoy\", \"Lee Hsien Loong\", \"Nguyễn Xuân Phúc\"\n",
    "]\n",
    "\n",
    "true_counts = unique_mppp2[columns_to_check].sum()\n",
    "\n",
    "for column, count in true_counts.items():\n",
    "    print(f\"There are {count} TRUE {column}\")"
   ]
  },
  {
   "cell_type": "code",
   "execution_count": null,
   "id": "d32cc5ba",
   "metadata": {},
   "outputs": [],
   "source": [
    "import pandas as pd\n",
    "\n",
    "leaders = [\n",
    "    \"Mauricio Macri\", \"Malcolm Turnbull\", \"Michel Temer\", \"Justin Trudeau\",\n",
    "    \"Xi Jinping\", \"Emmanuel Macron\", \"Narendra Modi\", \"Joko Widodo\",\n",
    "    \"Paolo Gentiloni\", \"Shinzō Abe\", \"Enrique Peña Nieto\", \"Vladimir Putin\",\n",
    "    \"Ibrahim Abdulaziz Al-Assaf\", \"Moon Jae-in\", \"Jacob Zuma\",\n",
    "    \"Recep Tayyip Erdoğan\", \"Donald Trump\", \"Mark Rutte\", \"Macky Sall\",\n",
    "    \"Mariano Rajoy\", \"Lee Hsien Loong\", \"Nguyễn Xuân Phúc\"\n",
    "]\n",
    "counts = [640, 535, 459, 825, 2214, 1153, 761, 422, 380, 6895, 64, 7036, 7, 421, 89, 98, 17093, 1226, 54, 12, 463, 0]\n",
    "\n",
    "df = pd.DataFrame({\n",
    "    'Leader': leaders,\n",
    "    'Count': counts\n",
    "})\n",
    "\n",
    "print(df)"
   ]
  },
  {
   "cell_type": "code",
   "execution_count": null,
   "id": "5f0b6383",
   "metadata": {},
   "outputs": [],
   "source": [
    "import pandas as pd\n",
    "import seaborn as sns\n",
    "import matplotlib.pyplot as plt\n",
    "\n",
    "leaders = [\n",
    "    \"Mauricio Macri\", \"Malcolm Turnbull\", \"Michel Temer\", \"Justin Trudeau\",\n",
    "    \"Xi Jinping\", \"Emmanuel Macron\", \"Narendra Modi\", \"Joko Widodo\",\n",
    "    \"Paolo Gentiloni\", \"Shinzō Abe\", \"Enrique Peña Nieto\", \"Vladimir Putin\",\n",
    "    \"Ibrahim Abdulaziz Al-Assaf\", \"Moon Jae-in\", \"Jacob Zuma\",\n",
    "    \"Recep Tayyip Erdoğan\", \"Donald Trump\", \"Mark Rutte\", \"Macky Sall\",\n",
    "    \"Mariano Rajoy\", \"Lee Hsien Loong\", \"Nguyễn Xuân Phúc\", \"Angela Merkel\", \"Theresa May\", \"Erna Solberg\"\n",
    "]\n",
    "counts = [640, 535, 459, 825, 2214, 1153, 761, 422, 380, 6895, 64, 7036, 7, 421, 89, 98, 17093, 1226, 54, 12, 463, 0, 4780, 391, 11]\n",
    "\n",
    "df = pd.DataFrame({\n",
    "    'Leader': leaders,\n",
    "    'Count': counts\n",
    "})\n",
    "\n",
    "df_sorted = df.sort_values('Count', ascending=False)\n",
    "\n",
    "plt.figure(figsize=(10, 8))\n",
    "sns.set_style(\"whitegrid\")\n",
    "bar_plot = sns.barplot(\n",
    "    y='Leader', \n",
    "    x='Count', \n",
    "    data=df_sorted, \n",
    "    palette='coolwarm'\n",
    ")\n",
    "\n",
    "for p in bar_plot.patches:\n",
    "    width = p.get_width()    \n",
    "    plt.text(5 + width,     \n",
    "             p.get_y() + p.get_height() / 2, \n",
    "             '{:1.0f}'.format(width), \n",
    "             va='center')  \n",
    "\n",
    "plt.title('Mentions of Leaders in Tweets')\n",
    "plt.xlabel('Number of Mentions')\n",
    "plt.ylabel('Leaders')\n",
    "\n",
    "plt.show()\n"
   ]
  }
 ],
 "metadata": {
  "kernelspec": {
   "display_name": "Python 3 (ipykernel)",
   "language": "python",
   "name": "python3"
  },
  "language_info": {
   "codemirror_mode": {
    "name": "ipython",
    "version": 3
   },
   "file_extension": ".py",
   "mimetype": "text/x-python",
   "name": "python",
   "nbconvert_exporter": "python",
   "pygments_lexer": "ipython3",
   "version": "3.11.5"
  }
 },
 "nbformat": 4,
 "nbformat_minor": 5
}
